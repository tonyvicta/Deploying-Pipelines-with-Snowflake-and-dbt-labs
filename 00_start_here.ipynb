{
 "cells": [
  {
   "cell_type": "markdown",
   "id": "623743e8-2cd7-47c6-99e7-100979384579",
   "metadata": {
    "collapsed": false,
    "name": "md_intro"
   },
   "source": [
    "# Deploying Pipelines with Snowflake and dbt Labs\n",
    "\n",
    "* Author: Dmytro Yaroshenko\n",
    "* Last Updated: 3/10/2025\n",
    "\n",
    "Welcome to the beginning of the Quickstart! Please refer to [the official Deploying Pipelines with Snowflake and dbt Labs\n",
    " Quickstart](https://quickstarts.snowflake.com/guide/data_engineering_with_notebooks/index.html?index=..%2F..index#0) for all the details including set up steps."
   ]
  },
  {
   "cell_type": "markdown",
   "id": "7f473b17",
   "metadata": {},
   "source": []
  },
  {
   "cell_type": "markdown",
   "id": "9e6273e5-bcf7-4492-92f6-cc161da082c6",
   "metadata": {
    "collapsed": false,
    "name": "md_step03"
   },
   "source": [
    "## Step 01 Setup Snowflake\n",
    "\n",
    "During this step we will create our demo environment. Update the SQL variables below with your GitHub username and Personal Access Token (PAT) as well as with your forked GitHub repository information.\n"
   ]
  },
  {
   "cell_type": "code",
   "execution_count": null,
   "id": "e898c514-831d-4aa7-9697-004994953950",
   "metadata": {
    "language": "sql",
    "name": "sql_step03_set_context"
   },
   "outputs": [],
   "source": [
    "SET MY_USER = CURRENT_USER();\n",
    "\n",
    "SET GITHUB_SECRET_USERNAME = 'yourgithubusername';\n",
    "SET GITHUB_SECRET_PASSWORD = 'yourgithubpassword';\n",
    "SET GITHUB_URL_PREFIX = 'https://github.com/yourgithubusername';\n",
    "SET GITHUB_REPO_ORIGIN = 'https://github.com/Snowflake-Labs/sfguide-deploying-pipielines-with-snowflake-and-dbt-labs.git';"
   ]
  },
  {
   "cell_type": "code",
   "execution_count": null,
   "id": "a1e2ae2c-241b-4d8f-aa99-11a35f9833a4",
   "metadata": {
    "language": "sql",
    "name": "sql_step03_database_objects"
   },
   "outputs": [],
   "source": [
    "USE ROLE ACCOUNTADMIN;\n",
    "CREATE DATABASE IF NOT EXISTS sandbox ;\n",
    "USE DATABASE SANDBOX;\n",
    "\n",
    "-- Secrets (schema level)\n",
    "CREATE OR REPLACE SECRET DEMO_GITHUB_SECRET\n",
    "  TYPE = password\n",
    "  USERNAME = $GITHUB_SECRET_USERNAME\n",
    "  PASSWORD = $GITHUB_SECRET_PASSWORD;\n",
    "\n",
    "-- API Integration (account level)\n",
    "-- This depends on the schema level secret!\n",
    "CREATE OR REPLACE API INTEGRATION DEMO_GITHUB_API_INTEGRATION\n",
    "  API_PROVIDER = GIT_HTTPS_API\n",
    "  API_ALLOWED_PREFIXES = ($GITHUB_URL_PREFIX)\n",
    "  ALLOWED_AUTHENTICATION_SECRETS = (DEMO_GITHUB_SECRET)\n",
    "  ENABLED = TRUE;\n",
    "\n",
    "-- Git Repository\n",
    "CREATE OR REPLACE GIT REPOSITORY DEMO_GIT_REPO\n",
    "  API_INTEGRATION = DEMO_GITHUB_API_INTEGRATION\n",
    "  GIT_CREDENTIALS = DEMO_GITHUB_SECRET\n",
    "  ORIGIN = $GITHUB_REPO_ORIGIN;"
   ]
  },
  {
   "cell_type": "markdown",
   "id": "9531119f-76fc-4a2f-a635-a5a7526ac152",
   "metadata": {
    "collapsed": false,
    "name": "md_step04_deploy_dev_notebooks"
   },
   "source": [
    "## Step 02 Setup dev environment\n"
   ]
  },
  {
   "cell_type": "code",
   "execution_count": null,
   "id": "ad8676d0-7f82-4639-a5e2-29f7f9dca0f5",
   "metadata": {
    "collapsed": false,
    "language": "sql",
    "name": "sql_step04_deploy_dev_notebooks"
   },
   "outputs": [],
   "source": [
    "USE ROLE ACCOUNTADMIN;\n",
    "USE DATABASE SANDBOX;\n",
    "\n",
    "ALTER GIT REPOSITORY DEMO_GIT_REPO FETCH;\n",
    "EXECUTE IMMEDIATE FROM @DEMO_GIT_REPO/branches/main/scripts/deploy_environment.sql USING (env => 'DEV');"
   ]
  },
  {
   "cell_type": "markdown",
   "id": "d3d93974-9a75-46c2-876f-95b6e1562f75",
   "metadata": {
    "collapsed": false,
    "name": "md_step06"
   },
   "source": [
    "## Step 04 Setup prod environment\n"
   ]
  },
  {
   "cell_type": "code",
   "execution_count": null,
   "id": "63bfff6b-067e-4f24-8424-19d0231c0ee1",
   "metadata": {
    "language": "sql",
    "name": "sql_step07_logs"
   },
   "outputs": [],
   "source": [
    "USE ROLE ACCOUNTADMIN;\n",
    "USE DATABASE SANDBOX;\n",
    "\n",
    "ALTER GIT REPOSITORY DEMO_GIT_REPO FETCH;\n",
    "EXECUTE IMMEDIATE FROM @DEMO_GIT_REPO/branches/main/scripts/deploy_environment.sql USING (env => 'PROD');"
   ]
  },
  {
   "cell_type": "markdown",
   "id": "ba497c01-0988-4c07-af66-79ee2918cffa",
   "metadata": {
    "collapsed": false,
    "name": "md_step10"
   },
   "source": [
    "## Step 10 Teardown\n",
    "\n",
    "Finally, we will tear down our demo environment."
   ]
  },
  {
   "cell_type": "code",
   "execution_count": null,
   "id": "f47ca116-4585-4668-bb72-cf74b0e7b587",
   "metadata": {
    "language": "sql",
    "name": "sql_step10"
   },
   "outputs": [],
   "source": [
    "USE ROLE ACCOUNTADMIN;\n",
    "DROP DATABASE dbt_hol_2025_dev;\n",
    "DROP DATABASE dbt_hol_2025_prod;\n"
   ]
  }
 ],
 "metadata": {
  "kernelspec": {
   "display_name": "Streamlit Notebook",
   "name": "streamlit"
  },
  "lastEditStatus": {
   "authorEmail": "dmytro.yaroshenko@snowflake.com",
   "authorId": "374585809486",
   "authorName": "DMYTRO",
   "lastEditTime": 1741627051157,
   "notebookId": "f3p77vgpmitap3y4dbbl",
   "sessionId": "a46f590b-4509-49c6-b634-ec65a9be7f1b"
  }
 },
 "nbformat": 4,
 "nbformat_minor": 5
}
